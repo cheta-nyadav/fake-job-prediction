{
 "cells": [
  {
   "cell_type": "code",
   "execution_count": 1,
   "id": "cf51d4e6",
   "metadata": {},
   "outputs": [],
   "source": [
    "import numpy as np\n",
    "import pandas as pd"
   ]
  },
  {
   "cell_type": "code",
   "execution_count": 2,
   "id": "04cdeef8",
   "metadata": {},
   "outputs": [
    {
     "data": {
      "text/html": [
       "<div>\n",
       "<style scoped>\n",
       "    .dataframe tbody tr th:only-of-type {\n",
       "        vertical-align: middle;\n",
       "    }\n",
       "\n",
       "    .dataframe tbody tr th {\n",
       "        vertical-align: top;\n",
       "    }\n",
       "\n",
       "    .dataframe thead th {\n",
       "        text-align: right;\n",
       "    }\n",
       "</style>\n",
       "<table border=\"1\" class=\"dataframe\">\n",
       "  <thead>\n",
       "    <tr style=\"text-align: right;\">\n",
       "      <th></th>\n",
       "      <th>title</th>\n",
       "      <th>location</th>\n",
       "      <th>department</th>\n",
       "      <th>salary_range</th>\n",
       "      <th>company_profile</th>\n",
       "      <th>description</th>\n",
       "      <th>requirements</th>\n",
       "      <th>benefits</th>\n",
       "      <th>telecommuting</th>\n",
       "      <th>has_company_logo</th>\n",
       "      <th>has_questions</th>\n",
       "      <th>employment_type</th>\n",
       "      <th>required_experience</th>\n",
       "      <th>required_education</th>\n",
       "      <th>industry</th>\n",
       "      <th>function</th>\n",
       "      <th>fraudulent</th>\n",
       "      <th>in_balanced_dataset</th>\n",
       "    </tr>\n",
       "  </thead>\n",
       "  <tbody>\n",
       "    <tr>\n",
       "      <th>0</th>\n",
       "      <td>Marketing Intern</td>\n",
       "      <td>US, NY, New York</td>\n",
       "      <td>Marketing</td>\n",
       "      <td>NaN</td>\n",
       "      <td>&lt;h3&gt;We're Food52, and we've created a groundbr...</td>\n",
       "      <td>&lt;p&gt;Food52, a fast-growing, James Beard Award-w...</td>\n",
       "      <td>&lt;ul&gt;\\r\\n&lt;li&gt;Experience with content management...</td>\n",
       "      <td>NaN</td>\n",
       "      <td>f</td>\n",
       "      <td>t</td>\n",
       "      <td>f</td>\n",
       "      <td>Other</td>\n",
       "      <td>Internship</td>\n",
       "      <td>NaN</td>\n",
       "      <td>NaN</td>\n",
       "      <td>Marketing</td>\n",
       "      <td>f</td>\n",
       "      <td>f</td>\n",
       "    </tr>\n",
       "    <tr>\n",
       "      <th>1</th>\n",
       "      <td>Customer Service - Cloud Video Production</td>\n",
       "      <td>NZ, , Auckland</td>\n",
       "      <td>Success</td>\n",
       "      <td>NaN</td>\n",
       "      <td>&lt;h3&gt;90 Seconds, the worlds Cloud Video Product...</td>\n",
       "      <td>&lt;p&gt;Organised - Focused - Vibrant - Awesome!&lt;br...</td>\n",
       "      <td>&lt;p&gt;&lt;b&gt;What we expect from you:&lt;/b&gt;&lt;/p&gt;\\r\\n&lt;p&gt;Y...</td>\n",
       "      <td>&lt;h3&gt;&lt;b&gt;What you will get from us&lt;/b&gt;&lt;/h3&gt;\\r\\n&lt;...</td>\n",
       "      <td>f</td>\n",
       "      <td>t</td>\n",
       "      <td>f</td>\n",
       "      <td>Full-time</td>\n",
       "      <td>Not Applicable</td>\n",
       "      <td>NaN</td>\n",
       "      <td>Marketing and Advertising</td>\n",
       "      <td>Customer Service</td>\n",
       "      <td>f</td>\n",
       "      <td>f</td>\n",
       "    </tr>\n",
       "    <tr>\n",
       "      <th>2</th>\n",
       "      <td>Commissioning Machinery Assistant (CMA)</td>\n",
       "      <td>US, IA, Wever</td>\n",
       "      <td>NaN</td>\n",
       "      <td>NaN</td>\n",
       "      <td>&lt;h3&gt;&lt;/h3&gt;\\r\\n&lt;p&gt;Valor Services provides Workfo...</td>\n",
       "      <td>&lt;p&gt;Our client, located in Houston, is actively...</td>\n",
       "      <td>&lt;ul&gt;\\r\\n&lt;li&gt;Implement pre-commissioning and co...</td>\n",
       "      <td>NaN</td>\n",
       "      <td>f</td>\n",
       "      <td>t</td>\n",
       "      <td>f</td>\n",
       "      <td>NaN</td>\n",
       "      <td>NaN</td>\n",
       "      <td>NaN</td>\n",
       "      <td>NaN</td>\n",
       "      <td>NaN</td>\n",
       "      <td>f</td>\n",
       "      <td>f</td>\n",
       "    </tr>\n",
       "    <tr>\n",
       "      <th>3</th>\n",
       "      <td>Account Executive - Washington DC</td>\n",
       "      <td>US, DC, Washington</td>\n",
       "      <td>Sales</td>\n",
       "      <td>NaN</td>\n",
       "      <td>&lt;p&gt;Our passion for improving quality of life t...</td>\n",
       "      <td>&lt;p&gt;&lt;b&gt;THE COMPANY: ESRI – Environmental System...</td>\n",
       "      <td>&lt;ul&gt;\\r\\n&lt;li&gt;\\r\\n&lt;b&gt;EDUCATION: &lt;/b&gt;Bachelor’s o...</td>\n",
       "      <td>&lt;p&gt;Our culture is anything but corporate—we ha...</td>\n",
       "      <td>f</td>\n",
       "      <td>t</td>\n",
       "      <td>f</td>\n",
       "      <td>Full-time</td>\n",
       "      <td>Mid-Senior level</td>\n",
       "      <td>Bachelor's Degree</td>\n",
       "      <td>Computer Software</td>\n",
       "      <td>Sales</td>\n",
       "      <td>f</td>\n",
       "      <td>f</td>\n",
       "    </tr>\n",
       "    <tr>\n",
       "      <th>4</th>\n",
       "      <td>Bill Review Manager</td>\n",
       "      <td>US, FL, Fort Worth</td>\n",
       "      <td>NaN</td>\n",
       "      <td>NaN</td>\n",
       "      <td>&lt;p&gt;SpotSource Solutions LLC is a Global Human ...</td>\n",
       "      <td>&lt;p&gt;&lt;b&gt;JOB TITLE:&lt;/b&gt; Itemization Review Manage...</td>\n",
       "      <td>&lt;p&gt;&lt;b&gt;QUALIFICATIONS:&lt;/b&gt;&lt;/p&gt;\\r\\n&lt;ul&gt;\\r\\n&lt;li&gt;R...</td>\n",
       "      <td>&lt;p&gt;Full Benefits Offered&lt;/p&gt;</td>\n",
       "      <td>f</td>\n",
       "      <td>t</td>\n",
       "      <td>t</td>\n",
       "      <td>Full-time</td>\n",
       "      <td>Mid-Senior level</td>\n",
       "      <td>Bachelor's Degree</td>\n",
       "      <td>Hospital &amp; Health Care</td>\n",
       "      <td>Health Care Provider</td>\n",
       "      <td>f</td>\n",
       "      <td>f</td>\n",
       "    </tr>\n",
       "  </tbody>\n",
       "</table>\n",
       "</div>"
      ],
      "text/plain": [
       "                                       title            location department  \\\n",
       "0                           Marketing Intern    US, NY, New York  Marketing   \n",
       "1  Customer Service - Cloud Video Production      NZ, , Auckland    Success   \n",
       "2    Commissioning Machinery Assistant (CMA)       US, IA, Wever        NaN   \n",
       "3          Account Executive - Washington DC  US, DC, Washington      Sales   \n",
       "4                        Bill Review Manager  US, FL, Fort Worth        NaN   \n",
       "\n",
       "  salary_range                                    company_profile  \\\n",
       "0          NaN  <h3>We're Food52, and we've created a groundbr...   \n",
       "1          NaN  <h3>90 Seconds, the worlds Cloud Video Product...   \n",
       "2          NaN  <h3></h3>\\r\\n<p>Valor Services provides Workfo...   \n",
       "3          NaN  <p>Our passion for improving quality of life t...   \n",
       "4          NaN  <p>SpotSource Solutions LLC is a Global Human ...   \n",
       "\n",
       "                                         description  \\\n",
       "0  <p>Food52, a fast-growing, James Beard Award-w...   \n",
       "1  <p>Organised - Focused - Vibrant - Awesome!<br...   \n",
       "2  <p>Our client, located in Houston, is actively...   \n",
       "3  <p><b>THE COMPANY: ESRI – Environmental System...   \n",
       "4  <p><b>JOB TITLE:</b> Itemization Review Manage...   \n",
       "\n",
       "                                        requirements  \\\n",
       "0  <ul>\\r\\n<li>Experience with content management...   \n",
       "1  <p><b>What we expect from you:</b></p>\\r\\n<p>Y...   \n",
       "2  <ul>\\r\\n<li>Implement pre-commissioning and co...   \n",
       "3  <ul>\\r\\n<li>\\r\\n<b>EDUCATION: </b>Bachelor’s o...   \n",
       "4  <p><b>QUALIFICATIONS:</b></p>\\r\\n<ul>\\r\\n<li>R...   \n",
       "\n",
       "                                            benefits telecommuting  \\\n",
       "0                                                NaN             f   \n",
       "1  <h3><b>What you will get from us</b></h3>\\r\\n<...             f   \n",
       "2                                                NaN             f   \n",
       "3  <p>Our culture is anything but corporate—we ha...             f   \n",
       "4                       <p>Full Benefits Offered</p>             f   \n",
       "\n",
       "  has_company_logo has_questions employment_type required_experience  \\\n",
       "0                t             f           Other          Internship   \n",
       "1                t             f       Full-time      Not Applicable   \n",
       "2                t             f             NaN                 NaN   \n",
       "3                t             f       Full-time    Mid-Senior level   \n",
       "4                t             t       Full-time    Mid-Senior level   \n",
       "\n",
       "  required_education                   industry              function  \\\n",
       "0                NaN                        NaN             Marketing   \n",
       "1                NaN  Marketing and Advertising      Customer Service   \n",
       "2                NaN                        NaN                   NaN   \n",
       "3  Bachelor's Degree          Computer Software                 Sales   \n",
       "4  Bachelor's Degree     Hospital & Health Care  Health Care Provider   \n",
       "\n",
       "  fraudulent in_balanced_dataset  \n",
       "0          f                   f  \n",
       "1          f                   f  \n",
       "2          f                   f  \n",
       "3          f                   f  \n",
       "4          f                   f  "
      ]
     },
     "execution_count": 2,
     "metadata": {},
     "output_type": "execute_result"
    }
   ],
   "source": [
    "df=pd.read_csv(\"DataSet.csv\")\n",
    "df.head()"
   ]
  },
  {
   "cell_type": "code",
   "execution_count": 3,
   "id": "16a1144a",
   "metadata": {},
   "outputs": [
    {
     "data": {
      "text/plain": [
       "['title',\n",
       " 'location',\n",
       " 'department',\n",
       " 'salary_range',\n",
       " 'company_profile',\n",
       " 'description',\n",
       " 'requirements',\n",
       " 'benefits',\n",
       " 'telecommuting',\n",
       " 'has_company_logo',\n",
       " 'has_questions',\n",
       " 'employment_type',\n",
       " 'required_experience',\n",
       " 'required_education',\n",
       " 'industry',\n",
       " 'function',\n",
       " 'fraudulent',\n",
       " 'in_balanced_dataset']"
      ]
     },
     "execution_count": 3,
     "metadata": {},
     "output_type": "execute_result"
    }
   ],
   "source": [
    "df.columns.tolist()"
   ]
  },
  {
   "cell_type": "code",
   "execution_count": 4,
   "id": "b404de6a",
   "metadata": {},
   "outputs": [
    {
     "data": {
      "text/plain": [
       "title                      0\n",
       "location                 346\n",
       "department             11547\n",
       "salary_range           15012\n",
       "company_profile         3308\n",
       "description                0\n",
       "requirements            2689\n",
       "benefits                7196\n",
       "telecommuting              0\n",
       "has_company_logo           0\n",
       "has_questions              0\n",
       "employment_type         3471\n",
       "required_experience     7050\n",
       "required_education      8105\n",
       "industry                4903\n",
       "function                6455\n",
       "fraudulent                 0\n",
       "in_balanced_dataset        0\n",
       "dtype: int64"
      ]
     },
     "execution_count": 4,
     "metadata": {},
     "output_type": "execute_result"
    }
   ],
   "source": [
    "df.isnull().sum()"
   ]
  },
  {
   "cell_type": "code",
   "execution_count": 5,
   "id": "2dd76633",
   "metadata": {},
   "outputs": [],
   "source": [
    "#removing the \"in_balanced_dataset\" column as it is irrelavant as for now\n",
    "df.drop(columns=['in_balanced_dataset'],inplace =True)"
   ]
  },
  {
   "cell_type": "code",
   "execution_count": 6,
   "id": "23f8d2be",
   "metadata": {},
   "outputs": [],
   "source": [
    "# Let us remove the columns which are not necessary for our analysis\n",
    "#for e.g. 'has_company_logo' etc"
   ]
  },
  {
   "cell_type": "code",
   "execution_count": 7,
   "id": "ca40ed42",
   "metadata": {},
   "outputs": [],
   "source": [
    "#but before that let us dive a little more deep into the null values issue"
   ]
  },
  {
   "cell_type": "code",
   "execution_count": 8,
   "id": "07b0c2c1",
   "metadata": {},
   "outputs": [
    {
     "data": {
      "image/png": "[encoded data removed]",
      "text/plain": [
       "<Figure size 1000x600 with 1 Axes>"
      ]
     },
     "metadata": {},
     "output_type": "display_data"
    }
   ],
   "source": [
    "import matplotlib.pyplot as plt\n",
    "\n",
    "# Calculate % of missing values in each of the colummns\n",
    "missing_percent = df.isnull().mean() * 100\n",
    "missing_percent = missing_percent[missing_percent > 0].sort_values(ascending=False)\n",
    "\n",
    "# Plot it\n",
    "plt.figure(figsize=(10, 6))\n",
    "missing_percent.plot(kind='barh', color='tomato')\n",
    "plt.title('Percentage of Missing Values per Column')\n",
    "plt.xlabel('% Missing')\n",
    "plt.ylabel('Columns')\n",
    "plt.gca().invert_yaxis()\n",
    "plt.grid(axis='x', linestyle='--', alpha=0.7)\n",
    "plt.show()\n"
   ]
  },
  {
   "cell_type": "code",
   "execution_count": 9,
   "id": "d5362170",
   "metadata": {},
   "outputs": [],
   "source": [
    "#salary range : more than 80% null values\n",
    "#these cannot be interploated or terminated, so we can drop them for context\n",
    "#(as salary range might not be important factor, fake job postings can put up any salary irregardless)"
   ]
  },
  {
   "cell_type": "code",
   "execution_count": 10,
   "id": "5adbdca5",
   "metadata": {},
   "outputs": [],
   "source": [
    "#department : more than 60 % null values\n",
    "#now this is an important factors ot consider as it might help us answer questions like which dept post most fake jobs\n",
    "#so we can impute them"
   ]
  },
  {
   "cell_type": "code",
   "execution_count": 11,
   "id": "1afc144f",
   "metadata": {},
   "outputs": [],
   "source": [
    "#'telecommuting', 'has_company_logo', 'has_questions' are also some not ver important for consideration now"
   ]
  },
  {
   "cell_type": "code",
   "execution_count": 12,
   "id": "7c2ee0b9",
   "metadata": {},
   "outputs": [],
   "source": [
    "df.drop(columns=['salary_range', 'telecommuting', 'has_company_logo', 'has_questions'], inplace = True)\n"
   ]
  },
  {
   "cell_type": "code",
   "execution_count": 13,
   "id": "15411a04",
   "metadata": {},
   "outputs": [],
   "source": [
    "# Fill low % NaNs with safe defaults\n",
    "df['location'].fillna(\"Unknown\", inplace=True)\n",
    "df['company_profile'].fillna(\"No profile\", inplace=True)\n",
    "df['requirements'].fillna(\"Not specified\", inplace=True)\n",
    "df['employment_type'].fillna(\"Other\", inplace=True)\n",
    "df['required_experience'].fillna(\"Not specified\", inplace=True)\n",
    "df['required_education'].fillna(\"Not specified\", inplace=True)\n",
    "df['industry'].fillna(\"Not specified\", inplace=True)\n",
    "df['function'].fillna(\"Other\", inplace=True)\n",
    "df['department'].fillna(\"Other\", inplace=True)\n",
    "df['benefits'].fillna(\"Not disclosed\", inplace=True)\n",
    "\n"
   ]
  },
  {
   "cell_type": "code",
   "execution_count": 14,
   "id": "f4d92bf4",
   "metadata": {},
   "outputs": [
    {
     "data": {
      "text/plain": [
       "title                  0\n",
       "location               0\n",
       "department             0\n",
       "company_profile        0\n",
       "description            0\n",
       "requirements           0\n",
       "benefits               0\n",
       "employment_type        0\n",
       "required_experience    0\n",
       "required_education     0\n",
       "industry               0\n",
       "function               0\n",
       "fraudulent             0\n",
       "dtype: int64"
      ]
     },
     "execution_count": 14,
     "metadata": {},
     "output_type": "execute_result"
    }
   ],
   "source": [
    "df.isnull().sum()"
   ]
  },
  {
   "cell_type": "code",
   "execution_count": 20,
   "id": "c7369770",
   "metadata": {},
   "outputs": [
    {
     "name": "stderr",
     "output_type": "stream",
     "text": [
      "C:\\Users\\lenovo\\anaconda3\\lib\\site-packages\\bs4\\__init__.py:435: MarkupResemblesLocatorWarning: The input looks more like a filename than markup. You may want to open this file and pass the filehandle into Beautiful Soup.\n",
      "  warnings.warn(\n"
     ]
    }
   ],
   "source": [
    "from bs4 import BeautifulSoup\n",
    "import re\n",
    "\n",
    "# Define a cleaning function\n",
    "def clean_text(text):\n",
    "    if pd.isnull(text):\n",
    "        return \"\"\n",
    "    # Remove HTML tags\n",
    "    text = BeautifulSoup(text, \"html.parser\").get_text()\n",
    "    # Remove newline, tab, extra spaces\n",
    "    text = re.sub(r'\\s+', ' ', text)\n",
    "    return text.strip()\n",
    "\n",
    "# List of columns to clean\n",
    "text_cols = ['company_profile', 'description', 'requirements', 'benefits']\n",
    "\n",
    "# Apply cleaning to each column\n",
    "for col in text_cols:\n",
    "    df[col] = df[col].apply(clean_text)\n"
   ]
  },
  {
   "cell_type": "code",
   "execution_count": 34,
   "id": "715a9270",
   "metadata": {},
   "outputs": [],
   "source": [
    "def clean_text(text):\n",
    "    if pd.isnull(text):\n",
    "        return \"\"\n",
    "    \n",
    "    # Step 1: Remove HTML tags\n",
    "    text = BeautifulSoup(text, \"html.parser\").get_text()\n",
    "    \n",
    "    # Step 2: Remove URLs (http, https, www) and email addresses\n",
    "    text = re.sub(r'http\\S+|www.\\S+|[\\w\\.-]+@[\\w\\.-]+', '', text)\n",
    "    \n",
    "    # Step 3: Remove \"href=\" and similar leftover patterns\n",
    "    text = re.sub(r'href\\S*', '', text)\n",
    "    \n",
    "    # Step 4: Remove extra whitespace, tabs, newlines\n",
    "    text = re.sub(r'\\s+', ' ', text)\n",
    "    \n",
    "    return text.strip()\n",
    "\n",
    "# Columns to clean\n",
    "text_cols = ['company_profile', 'description', 'requirements', 'benefits']\n",
    "\n",
    "# Apply cleaning to each column\n",
    "for col in text_cols:\n",
    "    df[col] = df[col].apply(clean_text)"
   ]
  },
  {
   "cell_type": "code",
   "execution_count": 38,
   "id": "09859931",
   "metadata": {},
   "outputs": [
    {
     "data": {
      "text/html": [
       "<div>\n",
       "<style scoped>\n",
       "    .dataframe tbody tr th:only-of-type {\n",
       "        vertical-align: middle;\n",
       "    }\n",
       "\n",
       "    .dataframe tbody tr th {\n",
       "        vertical-align: top;\n",
       "    }\n",
       "\n",
       "    .dataframe thead th {\n",
       "        text-align: right;\n",
       "    }\n",
       "</style>\n",
       "<table border=\"1\" class=\"dataframe\">\n",
       "  <thead>\n",
       "    <tr style=\"text-align: right;\">\n",
       "      <th></th>\n",
       "      <th>title</th>\n",
       "      <th>location</th>\n",
       "      <th>department</th>\n",
       "      <th>company_profile</th>\n",
       "      <th>description</th>\n",
       "      <th>requirements</th>\n",
       "      <th>benefits</th>\n",
       "      <th>employment_type</th>\n",
       "      <th>required_experience</th>\n",
       "      <th>required_education</th>\n",
       "      <th>industry</th>\n",
       "      <th>function</th>\n",
       "      <th>fraudulent</th>\n",
       "    </tr>\n",
       "  </thead>\n",
       "  <tbody>\n",
       "    <tr>\n",
       "      <th>0</th>\n",
       "      <td>Marketing Intern</td>\n",
       "      <td>US, NY, New York</td>\n",
       "      <td>Marketing</td>\n",
       "      <td>We're Food52, and we've created a groundbreaki...</td>\n",
       "      <td>Food52, a fast-growing, James Beard Award-winn...</td>\n",
       "      <td>Experience with content management systems a m...</td>\n",
       "      <td>Not disclosed</td>\n",
       "      <td>Other</td>\n",
       "      <td>Internship</td>\n",
       "      <td>Not specified</td>\n",
       "      <td>Not specified</td>\n",
       "      <td>Marketing</td>\n",
       "      <td>f</td>\n",
       "    </tr>\n",
       "    <tr>\n",
       "      <th>1</th>\n",
       "      <td>Customer Service - Cloud Video Production</td>\n",
       "      <td>NZ, , Auckland</td>\n",
       "      <td>Success</td>\n",
       "      <td>90 Seconds, the worlds Cloud Video Production ...</td>\n",
       "      <td>Organised - Focused - Vibrant - Awesome!Do you...</td>\n",
       "      <td>What we expect from you: Your key responsibili...</td>\n",
       "      <td>What you will get from us Through being part o...</td>\n",
       "      <td>Full-time</td>\n",
       "      <td>Not Applicable</td>\n",
       "      <td>Not specified</td>\n",
       "      <td>Marketing and Advertising</td>\n",
       "      <td>Customer Service</td>\n",
       "      <td>f</td>\n",
       "    </tr>\n",
       "    <tr>\n",
       "      <th>2</th>\n",
       "      <td>Commissioning Machinery Assistant (CMA)</td>\n",
       "      <td>US, IA, Wever</td>\n",
       "      <td>Other</td>\n",
       "      <td>Valor Services provides Workforce Solutions th...</td>\n",
       "      <td>Our client, located in Houston, is actively se...</td>\n",
       "      <td>Implement pre-commissioning and commissioning ...</td>\n",
       "      <td>Not disclosed</td>\n",
       "      <td>Other</td>\n",
       "      <td>Not specified</td>\n",
       "      <td>Not specified</td>\n",
       "      <td>Not specified</td>\n",
       "      <td>Other</td>\n",
       "      <td>f</td>\n",
       "    </tr>\n",
       "    <tr>\n",
       "      <th>3</th>\n",
       "      <td>Account Executive - Washington DC</td>\n",
       "      <td>US, DC, Washington</td>\n",
       "      <td>Sales</td>\n",
       "      <td>Our passion for improving quality of life thro...</td>\n",
       "      <td>THE COMPANY: ESRI – Environmental Systems Rese...</td>\n",
       "      <td>EDUCATION: Bachelor’s or Master’s in GIS, busi...</td>\n",
       "      <td>Our culture is anything but corporate—we have ...</td>\n",
       "      <td>Full-time</td>\n",
       "      <td>Mid-Senior level</td>\n",
       "      <td>Bachelor's Degree</td>\n",
       "      <td>Computer Software</td>\n",
       "      <td>Sales</td>\n",
       "      <td>f</td>\n",
       "    </tr>\n",
       "    <tr>\n",
       "      <th>4</th>\n",
       "      <td>Bill Review Manager</td>\n",
       "      <td>US, FL, Fort Worth</td>\n",
       "      <td>Other</td>\n",
       "      <td>SpotSource Solutions LLC is a Global Human Cap...</td>\n",
       "      <td>JOB TITLE: Itemization Review Manager LOCATION...</td>\n",
       "      <td>QUALIFICATIONS: RN license in the State of Tex...</td>\n",
       "      <td>Full Benefits Offered</td>\n",
       "      <td>Full-time</td>\n",
       "      <td>Mid-Senior level</td>\n",
       "      <td>Bachelor's Degree</td>\n",
       "      <td>Hospital &amp; Health Care</td>\n",
       "      <td>Health Care Provider</td>\n",
       "      <td>f</td>\n",
       "    </tr>\n",
       "  </tbody>\n",
       "</table>\n",
       "</div>"
      ],
      "text/plain": [
       "                                       title            location department  \\\n",
       "0                           Marketing Intern    US, NY, New York  Marketing   \n",
       "1  Customer Service - Cloud Video Production      NZ, , Auckland    Success   \n",
       "2    Commissioning Machinery Assistant (CMA)       US, IA, Wever      Other   \n",
       "3          Account Executive - Washington DC  US, DC, Washington      Sales   \n",
       "4                        Bill Review Manager  US, FL, Fort Worth      Other   \n",
       "\n",
       "                                     company_profile  \\\n",
       "0  We're Food52, and we've created a groundbreaki...   \n",
       "1  90 Seconds, the worlds Cloud Video Production ...   \n",
       "2  Valor Services provides Workforce Solutions th...   \n",
       "3  Our passion for improving quality of life thro...   \n",
       "4  SpotSource Solutions LLC is a Global Human Cap...   \n",
       "\n",
       "                                         description  \\\n",
       "0  Food52, a fast-growing, James Beard Award-winn...   \n",
       "1  Organised - Focused - Vibrant - Awesome!Do you...   \n",
       "2  Our client, located in Houston, is actively se...   \n",
       "3  THE COMPANY: ESRI – Environmental Systems Rese...   \n",
       "4  JOB TITLE: Itemization Review Manager LOCATION...   \n",
       "\n",
       "                                        requirements  \\\n",
       "0  Experience with content management systems a m...   \n",
       "1  What we expect from you: Your key responsibili...   \n",
       "2  Implement pre-commissioning and commissioning ...   \n",
       "3  EDUCATION: Bachelor’s or Master’s in GIS, busi...   \n",
       "4  QUALIFICATIONS: RN license in the State of Tex...   \n",
       "\n",
       "                                            benefits employment_type  \\\n",
       "0                                      Not disclosed           Other   \n",
       "1  What you will get from us Through being part o...       Full-time   \n",
       "2                                      Not disclosed           Other   \n",
       "3  Our culture is anything but corporate—we have ...       Full-time   \n",
       "4                              Full Benefits Offered       Full-time   \n",
       "\n",
       "  required_experience required_education                   industry  \\\n",
       "0          Internship      Not specified              Not specified   \n",
       "1      Not Applicable      Not specified  Marketing and Advertising   \n",
       "2       Not specified      Not specified              Not specified   \n",
       "3    Mid-Senior level  Bachelor's Degree          Computer Software   \n",
       "4    Mid-Senior level  Bachelor's Degree     Hospital & Health Care   \n",
       "\n",
       "               function fraudulent  \n",
       "0             Marketing          f  \n",
       "1      Customer Service          f  \n",
       "2                 Other          f  \n",
       "3                 Sales          f  \n",
       "4  Health Care Provider          f  "
      ]
     },
     "execution_count": 38,
     "metadata": {},
     "output_type": "execute_result"
    }
   ],
   "source": [
    "df.head()"
   ]
  },
  {
   "cell_type": "code",
   "execution_count": 15,
   "id": "4df2f57b",
   "metadata": {},
   "outputs": [],
   "source": [
    "#chcking for class imbalance problem"
   ]
  },
  {
   "cell_type": "code",
   "execution_count": 16,
   "id": "bf2a35c3",
   "metadata": {},
   "outputs": [
    {
     "data": {
      "text/plain": [
       "f    17014\n",
       "t      866\n",
       "Name: fraudulent, dtype: int64"
      ]
     },
     "execution_count": 16,
     "metadata": {},
     "output_type": "execute_result"
    }
   ],
   "source": [
    "import matplotlib.pyplot as plt\n",
    "\n",
    "# Count the occurrences of each value in the 'fraud' column\n",
    "fraud_counts = df['fraudulent'].value_counts().sort_index()\n",
    "\n",
    "# Define labels based on your data (0: Not Fraud, 1: Fraud)\n",
    "labels = ['Not Fraud', 'Fraud']\n",
    "\n",
    "fraud_counts"
   ]
  },
  {
   "cell_type": "code",
   "execution_count": 17,
   "id": "776c423c",
   "metadata": {},
   "outputs": [
    {
     "data": {
      "image/png": "[encoded data removed]",
      "text/plain": [
       "<Figure size 600x600 with 1 Axes>"
      ]
     },
     "metadata": {},
     "output_type": "display_data"
    }
   ],
   "source": [
    "# Plot the pie chart\n",
    "plt.figure(figsize=(6, 6))\n",
    "plt.pie(fraud_counts, labels=labels, autopct='%1.1f%%', startangle=90, colors=['skyblue', 'salmon'])\n",
    "plt.title('Fraud vs Not Fraud Distribution')\n",
    "plt.show()\n"
   ]
  },
  {
   "cell_type": "code",
   "execution_count": 39,
   "id": "1c868634",
   "metadata": {},
   "outputs": [],
   "source": [
    "# Save the cleaned and balanced dataset\n",
    "df.to_csv('data1.csv', index=False)"
   ]
  }
 ],
 "metadata": {
  "kernelspec": {
   "display_name": "Python 3 (ipykernel)",
   "language": "python",
   "name": "python3"
  },
  "language_info": {
   "codemirror_mode": {
    "name": "ipython",
    "version": 3
   },
   "file_extension": ".py",
   "mimetype": "text/x-python",
   "name": "python",
   "nbconvert_exporter": "python",
   "pygments_lexer": "ipython3",
   "version": "3.9.13"
  }
 },
 "nbformat": 4,
 "nbformat_minor": 5
}
