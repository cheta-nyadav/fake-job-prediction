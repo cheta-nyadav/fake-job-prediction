{
 "cells": [
  {
   "cell_type": "code",
   "execution_count": 10,
   "id": "02faa875",
   "metadata": {},
   "outputs": [],
   "source": [
    "import pandas as pd\n",
    "from imblearn.under_sampling import RandomUnderSampler  \n",
    "import numpy as np\n"
   ]
  },
  {
   "cell_type": "code",
   "execution_count": 11,
   "id": "9d54a98c",
   "metadata": {},
   "outputs": [
    {
     "data": {
      "text/html": [
       "<div>\n",
       "<style scoped>\n",
       "    .dataframe tbody tr th:only-of-type {\n",
       "        vertical-align: middle;\n",
       "    }\n",
       "\n",
       "    .dataframe tbody tr th {\n",
       "        vertical-align: top;\n",
       "    }\n",
       "\n",
       "    .dataframe thead th {\n",
       "        text-align: right;\n",
       "    }\n",
       "</style>\n",
       "<table border=\"1\" class=\"dataframe\">\n",
       "  <thead>\n",
       "    <tr style=\"text-align: right;\">\n",
       "      <th></th>\n",
       "      <th>title</th>\n",
       "      <th>location</th>\n",
       "      <th>department</th>\n",
       "      <th>company_profile</th>\n",
       "      <th>description</th>\n",
       "      <th>requirements</th>\n",
       "      <th>benefits</th>\n",
       "      <th>employment_type</th>\n",
       "      <th>required_experience</th>\n",
       "      <th>required_education</th>\n",
       "      <th>industry</th>\n",
       "      <th>function</th>\n",
       "      <th>fraudulent</th>\n",
       "    </tr>\n",
       "  </thead>\n",
       "  <tbody>\n",
       "    <tr>\n",
       "      <th>0</th>\n",
       "      <td>Marketing Intern</td>\n",
       "      <td>US, NY, New York</td>\n",
       "      <td>Marketing</td>\n",
       "      <td>We're Food52, and we've created a groundbreaki...</td>\n",
       "      <td>Food52, a fast-growing, James Beard Award-winn...</td>\n",
       "      <td>Experience with content management systems a m...</td>\n",
       "      <td>Not disclosed</td>\n",
       "      <td>Other</td>\n",
       "      <td>Internship</td>\n",
       "      <td>Not specified</td>\n",
       "      <td>Not specified</td>\n",
       "      <td>Marketing</td>\n",
       "      <td>f</td>\n",
       "    </tr>\n",
       "    <tr>\n",
       "      <th>1</th>\n",
       "      <td>Customer Service - Cloud Video Production</td>\n",
       "      <td>NZ, , Auckland</td>\n",
       "      <td>Success</td>\n",
       "      <td>90 Seconds, the worlds Cloud Video Production ...</td>\n",
       "      <td>Organised - Focused - Vibrant - Awesome!Do you...</td>\n",
       "      <td>What we expect from you: Your key responsibili...</td>\n",
       "      <td>What you will get from us Through being part o...</td>\n",
       "      <td>Full-time</td>\n",
       "      <td>Not Applicable</td>\n",
       "      <td>Not specified</td>\n",
       "      <td>Marketing and Advertising</td>\n",
       "      <td>Customer Service</td>\n",
       "      <td>f</td>\n",
       "    </tr>\n",
       "    <tr>\n",
       "      <th>2</th>\n",
       "      <td>Commissioning Machinery Assistant (CMA)</td>\n",
       "      <td>US, IA, Wever</td>\n",
       "      <td>Other</td>\n",
       "      <td>Valor Services provides Workforce Solutions th...</td>\n",
       "      <td>Our client, located in Houston, is actively se...</td>\n",
       "      <td>Implement pre-commissioning and commissioning ...</td>\n",
       "      <td>Not disclosed</td>\n",
       "      <td>Other</td>\n",
       "      <td>Not specified</td>\n",
       "      <td>Not specified</td>\n",
       "      <td>Not specified</td>\n",
       "      <td>Other</td>\n",
       "      <td>f</td>\n",
       "    </tr>\n",
       "    <tr>\n",
       "      <th>3</th>\n",
       "      <td>Account Executive - Washington DC</td>\n",
       "      <td>US, DC, Washington</td>\n",
       "      <td>Sales</td>\n",
       "      <td>Our passion for improving quality of life thro...</td>\n",
       "      <td>THE COMPANY: ESRI – Environmental Systems Rese...</td>\n",
       "      <td>EDUCATION: Bachelor’s or Master’s in GIS, busi...</td>\n",
       "      <td>Our culture is anything but corporate—we have ...</td>\n",
       "      <td>Full-time</td>\n",
       "      <td>Mid-Senior level</td>\n",
       "      <td>Bachelor's Degree</td>\n",
       "      <td>Computer Software</td>\n",
       "      <td>Sales</td>\n",
       "      <td>f</td>\n",
       "    </tr>\n",
       "    <tr>\n",
       "      <th>4</th>\n",
       "      <td>Bill Review Manager</td>\n",
       "      <td>US, FL, Fort Worth</td>\n",
       "      <td>Other</td>\n",
       "      <td>SpotSource Solutions LLC is a Global Human Cap...</td>\n",
       "      <td>JOB TITLE: Itemization Review Manager LOCATION...</td>\n",
       "      <td>QUALIFICATIONS: RN license in the State of Tex...</td>\n",
       "      <td>Full Benefits Offered</td>\n",
       "      <td>Full-time</td>\n",
       "      <td>Mid-Senior level</td>\n",
       "      <td>Bachelor's Degree</td>\n",
       "      <td>Hospital &amp; Health Care</td>\n",
       "      <td>Health Care Provider</td>\n",
       "      <td>f</td>\n",
       "    </tr>\n",
       "  </tbody>\n",
       "</table>\n",
       "</div>"
      ],
      "text/plain": [
       "                                       title            location department  \\\n",
       "0                           Marketing Intern    US, NY, New York  Marketing   \n",
       "1  Customer Service - Cloud Video Production      NZ, , Auckland    Success   \n",
       "2    Commissioning Machinery Assistant (CMA)       US, IA, Wever      Other   \n",
       "3          Account Executive - Washington DC  US, DC, Washington      Sales   \n",
       "4                        Bill Review Manager  US, FL, Fort Worth      Other   \n",
       "\n",
       "                                     company_profile  \\\n",
       "0  We're Food52, and we've created a groundbreaki...   \n",
       "1  90 Seconds, the worlds Cloud Video Production ...   \n",
       "2  Valor Services provides Workforce Solutions th...   \n",
       "3  Our passion for improving quality of life thro...   \n",
       "4  SpotSource Solutions LLC is a Global Human Cap...   \n",
       "\n",
       "                                         description  \\\n",
       "0  Food52, a fast-growing, James Beard Award-winn...   \n",
       "1  Organised - Focused - Vibrant - Awesome!Do you...   \n",
       "2  Our client, located in Houston, is actively se...   \n",
       "3  THE COMPANY: ESRI – Environmental Systems Rese...   \n",
       "4  JOB TITLE: Itemization Review Manager LOCATION...   \n",
       "\n",
       "                                        requirements  \\\n",
       "0  Experience with content management systems a m...   \n",
       "1  What we expect from you: Your key responsibili...   \n",
       "2  Implement pre-commissioning and commissioning ...   \n",
       "3  EDUCATION: Bachelor’s or Master’s in GIS, busi...   \n",
       "4  QUALIFICATIONS: RN license in the State of Tex...   \n",
       "\n",
       "                                            benefits employment_type  \\\n",
       "0                                      Not disclosed           Other   \n",
       "1  What you will get from us Through being part o...       Full-time   \n",
       "2                                      Not disclosed           Other   \n",
       "3  Our culture is anything but corporate—we have ...       Full-time   \n",
       "4                              Full Benefits Offered       Full-time   \n",
       "\n",
       "  required_experience required_education                   industry  \\\n",
       "0          Internship      Not specified              Not specified   \n",
       "1      Not Applicable      Not specified  Marketing and Advertising   \n",
       "2       Not specified      Not specified              Not specified   \n",
       "3    Mid-Senior level  Bachelor's Degree          Computer Software   \n",
       "4    Mid-Senior level  Bachelor's Degree     Hospital & Health Care   \n",
       "\n",
       "               function fraudulent  \n",
       "0             Marketing          f  \n",
       "1      Customer Service          f  \n",
       "2                 Other          f  \n",
       "3                 Sales          f  \n",
       "4  Health Care Provider          f  "
      ]
     },
     "execution_count": 11,
     "metadata": {},
     "output_type": "execute_result"
    }
   ],
   "source": [
    "df=pd.read_csv(\"data1.csv\")\n",
    "df.head()"
   ]
  },
  {
   "cell_type": "code",
   "execution_count": 12,
   "id": "eb4958cd",
   "metadata": {},
   "outputs": [
    {
     "data": {
      "text/plain": [
       "title                   0\n",
       "location                0\n",
       "department              0\n",
       "company_profile         0\n",
       "description             2\n",
       "requirements            9\n",
       "benefits               22\n",
       "employment_type         0\n",
       "required_experience     0\n",
       "required_education      0\n",
       "industry                0\n",
       "function                0\n",
       "fraudulent              0\n",
       "dtype: int64"
      ]
     },
     "execution_count": 12,
     "metadata": {},
     "output_type": "execute_result"
    }
   ],
   "source": [
    "df.isnull().sum()"
   ]
  },
  {
   "cell_type": "markdown",
   "id": "b167beed",
   "metadata": {},
   "source": [
    "### ⚠️ Class Imbalance Problem\n",
    "\n",
    "We observe that over **95% of job postings are labeled as \"not fraud\"**, and only about **5% are labeled as \"fraud\"**.\n",
    "\n",
    "This class imbalance causes several issues during model training:\n",
    "\n",
    "- The model tends to **predict only the majority class** (\"not fraud\") to achieve high accuracy\n",
    "- The **minority class (\"fraud\") is underrepresented**, making it hard for the model to learn its patterns\n",
    "- Results in **high accuracy but poor recall and precision** for fraud detection\n",
    "- Makes the model **biased and ineffective** for identifying actual fraudulent job posts\n",
    "\n",
    "➡️ To address this, we apply **undersampling** to balance the dataset and ensure the model treats both classes fairly.\n"
   ]
  },
  {
   "cell_type": "markdown",
   "id": "b40a3a97",
   "metadata": {},
   "source": [
    "## We use undersampling (as for now) because\n",
    "We donot want to overcomplicate the steps for now and have a working model in hand\n",
    "<li>Start simple\n",
    "\n",
    "<li>Avoid any risk of overfitting\n",
    "\n",
    "<li>Test ideas quickly"
   ]
  },
  {
   "cell_type": "code",
   "execution_count": 14,
   "id": "99d512f1",
   "metadata": {},
   "outputs": [],
   "source": [
    "from imblearn.under_sampling import RandomUnderSampler\n",
    "\n",
    "# Step 1: Define feature columns (X) and target column (Y)\n",
    "X = df.drop(columns=['fraudulent'])   # All columns except the target\n",
    "Y = df['fraudulent']                  # Target column: 1 = fake, 0 = real"
   ]
  },
  {
   "cell_type": "code",
   "execution_count": 15,
   "id": "87737960",
   "metadata": {},
   "outputs": [
    {
     "name": "stdout",
     "output_type": "stream",
     "text": [
      "Before undersampling:\n",
      "X shape: (17880, 12)\n",
      "Class distribution:\n",
      " f    17014\n",
      "t      866\n",
      "Name: fraudulent, dtype: int64\n"
     ]
    }
   ],
   "source": [
    "# (Optional) Show original shape and class distribution\n",
    "print(\"Before undersampling:\")\n",
    "print(\"X shape:\", X.shape)\n",
    "print(\"Class distribution:\\n\", Y.value_counts())"
   ]
  },
  {
   "cell_type": "code",
   "execution_count": 16,
   "id": "2847ca99",
   "metadata": {},
   "outputs": [],
   "source": [
    "#use undersampling method \n",
    "under_sampler = RandomUnderSampler(random_state=42)\n",
    "X_resampled, y_resampled = under_sampler.fit_resample(X, Y)"
   ]
  },
  {
   "cell_type": "code",
   "execution_count": 17,
   "id": "683a300f",
   "metadata": {},
   "outputs": [],
   "source": [
    "# Recombine resampled features into a single DataFrame\n",
    "balanced_data = pd.concat([\n",
    "    pd.DataFrame(X_resampled, columns=X.columns),\n",
    "    pd.DataFrame(y_resampled, columns=[\"fraudulent\"])\n",
    "], axis=1)"
   ]
  },
  {
   "cell_type": "code",
   "execution_count": 18,
   "id": "b6a6fa00",
   "metadata": {},
   "outputs": [
    {
     "name": "stdout",
     "output_type": "stream",
     "text": [
      "\n",
      "After undersampling:\n",
      "Balanced shape: (1732, 13)\n",
      "New class distribution:\n",
      " f    866\n",
      "t    866\n",
      "Name: fraudulent, dtype: int64\n"
     ]
    }
   ],
   "source": [
    "# new shape and class distribution\n",
    "print(\"\\nAfter undersampling:\")\n",
    "print(\"Balanced shape:\", balanced_data.shape)\n",
    "print(\"New class distribution:\\n\", balanced_data['fraudulent'].value_counts())\n",
    "\n",
    "df = balanced_data\n"
   ]
  },
  {
   "cell_type": "code",
   "execution_count": 20,
   "id": "d1486cc4",
   "metadata": {},
   "outputs": [
    {
     "data": {
      "image/png": "[encoded data removed]",
      "text/plain": [
       "<Figure size 600x400 with 1 Axes>"
      ]
     },
     "metadata": {},
     "output_type": "display_data"
    }
   ],
   "source": [
    "import matplotlib.pyplot as plt\n",
    "import seaborn as sns\n",
    "\n",
    "# If your final DataFrame is named `data`\n",
    "plt.figure(figsize=(6,4))\n",
    "sns.countplot(data=df, x='fraudulent', palette='Set2')\n",
    "\n",
    "plt.title('Class Distribution After Undersampling')\n",
    "plt.xlabel('Fraudulent')\n",
    "plt.ylabel('Number of Samples')\n",
    "plt.xticks([0, 1], ['Not Fraudulent (0)', 'Fraudulent (1)'])\n",
    "plt.grid(axis='y', linestyle='--', alpha=0.7)\n",
    "\n",
    "plt.show()\n"
   ]
  }
 ],
 "metadata": {
  "kernelspec": {
   "display_name": "Python 3 (ipykernel)",
   "language": "python",
   "name": "python3"
  },
  "language_info": {
   "codemirror_mode": {
    "name": "ipython",
    "version": 3
   },
   "file_extension": ".py",
   "mimetype": "text/x-python",
   "name": "python",
   "nbconvert_exporter": "python",
   "pygments_lexer": "ipython3",
   "version": "3.9.13"
  }
 },
 "nbformat": 4,
 "nbformat_minor": 5
}
