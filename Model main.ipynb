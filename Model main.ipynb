{
 "cells": [
  {
   "cell_type": "code",
   "execution_count": 36,
   "id": "305155c0",
   "metadata": {},
   "outputs": [],
   "source": [
    "import nltk\n",
    "from nltk.corpus import stopwords\n",
    "from sklearn.feature_extraction.text import TfidfVectorizer\n",
    "from sklearn.model_selection import train_test_split\n",
    "import numpy as np\n",
    "import pandas as pd\n",
    "import matplotlib.pyplot as plt\n",
    "import seaborn as sns"
   ]
  },
  {
   "cell_type": "code",
   "execution_count": 23,
   "id": "5350778e",
   "metadata": {},
   "outputs": [],
   "source": [
    "data=pd.read_csv(\"data3.csv\")"
   ]
  },
  {
   "cell_type": "code",
   "execution_count": 24,
   "id": "2046bb76",
   "metadata": {},
   "outputs": [],
   "source": [
    "data['fraudulent'] = data['fraudulent'].map({'f': 0, 't': 1})\n"
   ]
  },
  {
   "cell_type": "code",
   "execution_count": 25,
   "id": "9e1499a4",
   "metadata": {},
   "outputs": [
    {
     "name": "stderr",
     "output_type": "stream",
     "text": [
      "[nltk_data] Downloading package stopwords to\n",
      "[nltk_data]     C:\\Users\\lenovo\\AppData\\Roaming\\nltk_data...\n",
      "[nltk_data]   Package stopwords is already up-to-date!\n"
     ]
    }
   ],
   "source": [
    "# More comprehensive text preprocessing\n",
    "nltk.download(\"stopwords\")\n",
    "from nltk.corpus import stopwords\n",
    "stop_words = set(stopwords.words('english'))\n",
    "\n",
    "# Add custom stopwords specific to job postings\n",
    "job_stopwords = {'company', 'position', 'candidate', 'work', 'job', 'role', 'team'}\n",
    "stop_words.update(job_stopwords)\n",
    "\n",
    "data['text'] = data['text'].apply(lambda x:' '.join([word for word in x.split() if word not in (stop_words)]))\n"
   ]
  },
  {
   "cell_type": "code",
   "execution_count": 26,
   "id": "e274644a",
   "metadata": {},
   "outputs": [],
   "source": [
    "from sklearn.model_selection import train_test_split\n",
    "# Splitting dataset in train and test\n",
    "X_train, X_test, y_train, y_test = train_test_split(data.text, data.fraudulent, test_size=0.3)"
   ]
  },
  {
   "cell_type": "code",
   "execution_count": 27,
   "id": "f6eeb66e",
   "metadata": {},
   "outputs": [
    {
     "name": "stdout",
     "output_type": "stream",
     "text": [
      "178     0\n",
      "1553    1\n",
      "37      0\n",
      "1474    1\n",
      "998     1\n",
      "       ..\n",
      "1478    1\n",
      "1647    1\n",
      "1162    1\n",
      "1592    1\n",
      "1191    1\n",
      "Name: fraudulent, Length: 1210, dtype: int64\n",
      "178     S70 2JB Business Admin Apprenticeship Availabl...\n",
      "1553    Data Entry / Typist Work At Home US, TX, Houst...\n",
      "37      Ad campaign coordinator LT, , Vilnius No profi...\n",
      "1474    Human Resources Assistant/Executive Assistant/...\n",
      "998     CUSTOMER SERVICE REPRESENTATIVE US, NY, No pro...\n",
      "                              ...                        \n",
      "1478    Hospital Clerical/Reception: $22 - $24/hr CA, ...\n",
      "1647    Administrative Assistant US, MD, Baltimore No ...\n",
      "1162    Home Based Commission Roles US, IN, No profile...\n",
      "1592    Data Entry Admin/Clerical Positions - Work Fro...\n",
      "1191    Mechanical Engineering Manager US, TX, Houston...\n",
      "Name: text, Length: 1210, dtype: object\n"
     ]
    }
   ],
   "source": [
    "print(y_train)\n",
    "print(X_train)\n",
    "\n",
    "     "
   ]
  },
  {
   "cell_type": "code",
   "execution_count": 28,
   "id": "b8f6e37d",
   "metadata": {},
   "outputs": [],
   "source": [
    "from sklearn.feature_extraction.text import CountVectorizer\n",
    "\n",
    "#  instantiate the vectorizer\n",
    "vect = CountVectorizer()\n",
    "\n",
    "# learn training data vocabulary, then use it to create a document-term matrix\n",
    "# fit\n",
    "vect.fit(X_train)\n",
    "\n",
    "# transform training data\n",
    "X_train_dtm = vect.transform(X_train)\n"
   ]
  },
  {
   "cell_type": "code",
   "execution_count": 29,
   "id": "d6fa00e8",
   "metadata": {},
   "outputs": [
    {
     "name": "stdout",
     "output_type": "stream",
     "text": [
      "  (0, 43)\t1\n",
      "  (0, 77)\t2\n",
      "  (0, 87)\t2\n",
      "  (0, 204)\t1\n",
      "  (0, 680)\t3\n",
      "  (0, 811)\t1\n",
      "  (0, 815)\t1\n",
      "  (0, 939)\t1\n",
      "  (0, 1086)\t1\n",
      "  (0, 1109)\t1\n",
      "  (0, 1179)\t4\n",
      "  (0, 1523)\t3\n",
      "  (0, 1641)\t1\n",
      "  (0, 2174)\t3\n",
      "  (0, 2283)\t1\n",
      "  (0, 2346)\t2\n",
      "  (0, 2772)\t1\n",
      "  (0, 2953)\t1\n",
      "  (0, 3078)\t1\n",
      "  (0, 3237)\t1\n",
      "  (0, 3451)\t1\n",
      "  (0, 3453)\t1\n",
      "  (0, 3463)\t1\n",
      "  (0, 3635)\t1\n",
      "  (0, 3653)\t1\n",
      "  :\t:\n",
      "  (1209, 13625)\t1\n",
      "  (1209, 13633)\t1\n",
      "  (1209, 13638)\t1\n",
      "  (1209, 13737)\t2\n",
      "  (1209, 14093)\t1\n",
      "  (1209, 14148)\t1\n",
      "  (1209, 14156)\t1\n",
      "  (1209, 14362)\t1\n",
      "  (1209, 14372)\t1\n",
      "  (1209, 14654)\t2\n",
      "  (1209, 14673)\t1\n",
      "  (1209, 14724)\t1\n",
      "  (1209, 14737)\t1\n",
      "  (1209, 14798)\t1\n",
      "  (1209, 14836)\t2\n",
      "  (1209, 14900)\t1\n",
      "  (1209, 14922)\t1\n",
      "  (1209, 15071)\t2\n",
      "  (1209, 15135)\t2\n",
      "  (1209, 15142)\t1\n",
      "  (1209, 15256)\t2\n",
      "  (1209, 15262)\t1\n",
      "  (1209, 15287)\t1\n",
      "  (1209, 15326)\t1\n",
      "  (1209, 15401)\t2\n"
     ]
    }
   ],
   "source": [
    "\n",
    "# examine the document-term matrix\n",
    "X_train_dtm\n",
    "\n",
    "#how X_train_dtm is looking\n",
    "print(X_train_dtm)"
   ]
  },
  {
   "cell_type": "code",
   "execution_count": 30,
   "id": "8844db1c",
   "metadata": {},
   "outputs": [
    {
     "data": {
      "text/plain": [
       "<519x15714 sparse matrix of type '<class 'numpy.int64'>'\n",
       "\twith 83380 stored elements in Compressed Sparse Row format>"
      ]
     },
     "execution_count": 30,
     "metadata": {},
     "output_type": "execute_result"
    }
   ],
   "source": [
    "X_test_dtm = vect.transform(X_test)\n",
    "X_test_dtm"
   ]
  },
  {
   "cell_type": "markdown",
   "id": "6f538b33",
   "metadata": {},
   "source": [
    "## Model building"
   ]
  },
  {
   "cell_type": "code",
   "execution_count": 31,
   "id": "caaa820e",
   "metadata": {},
   "outputs": [],
   "source": [
    "from sklearn.tree import DecisionTreeClassifier\n",
    "from sklearn.metrics import accuracy_score, plot_confusion_matrix, classification_report, confusion_matrix\n",
    "from sklearn.naive_bayes import MultinomialNB"
   ]
  },
  {
   "cell_type": "code",
   "execution_count": 32,
   "id": "e725cd24",
   "metadata": {},
   "outputs": [
    {
     "name": "stdout",
     "output_type": "stream",
     "text": [
      "Wall time: 11.4 ms\n"
     ]
    },
    {
     "data": {
      "text/plain": [
       "MultinomialNB()"
      ]
     },
     "execution_count": 32,
     "metadata": {},
     "output_type": "execute_result"
    }
   ],
   "source": [
    "nb = MultinomialNB()\n",
    "%time nb.fit(X_train_dtm, y_train)"
   ]
  },
  {
   "cell_type": "code",
   "execution_count": 33,
   "id": "bd225751",
   "metadata": {},
   "outputs": [
    {
     "name": "stdout",
     "output_type": "stream",
     "text": [
      "[0 1 0 1 1 1 0 0 1 0 1 0 1 1 1 0 0 1 0 0 0 1 1 1 1 1 1 1 0 0 0 1 1 1 1 1 0\n",
      " 0 0 0 1 1 1 1 0 1 0 1 0 0 0 0 0 0 1 1 1 0 1 1 0 0 1 1 1 0 0 0 0 0 0 0 0 0\n",
      " 0 1 0 1 0 0 0 0 1 0 0 0 0 1 1 1 1 1 0 1 0 0 0 1 0 1 0 0 0 1 0 0 1 1 1 0 0\n",
      " 0 1 0 1 0 1 1 1 1 1 0 0 0 1 1 1 1 0 0 0 1 0 1 1 0 1 0 1 1 1 1 1 0 1 1 1 0\n",
      " 0 0 0 1 1 1 0 0 1 0 0 1 0 1 0 1 0 0 0 1 1 1 1 1 1 1 1 1 0 1 0 1 1 0 0 0 0\n",
      " 1 1 1 0 0 0 1 1 0 1 0 0 1 0 0 0 1 0 1 1 1 0 0 0 1 1 1 0 0 0 0 0 1 0 1 1 0\n",
      " 1 1 1 0 1 1 0 0 1 0 0 1 1 1 0 1 1 1 1 1 1 0 0 0 0 0 1 1 0 1 0 1 1 1 1 0 0\n",
      " 1 1 0 0 0 1 0 1 0 0 0 0 1 0 0 0 1 1 0 1 0 1 0 1 0 0 0 1 1 0 1 1 0 1 0 1 1\n",
      " 0 1 0 0 1 1 0 1 1 0 0 0 0 0 1 0 1 1 0 0 1 0 0 0 0 1 1 1 1 0 1 1 0 1 0 0 1\n",
      " 0 0 1 0 1 1 1 0 0 1 1 0 0 1 0 0 1 0 0 1 0 0 0 1 0 1 0 1 1 0 0 1 0 1 0 1 0\n",
      " 0 1 0 1 0 0 1 0 1 0 1 1 0 0 1 1 0 0 0 1 1 0 0 0 0 0 1 0 0 1 1 1 0 1 0 0 1\n",
      " 0 0 1 1 0 0 0 1 0 1 0 1 1 1 0 1 1 0 0 0 0 1 0 1 0 1 0 0 0 1 0 1 1 0 0 0 0\n",
      " 1 1 0 0 0 1 1 0 0 0 0 1 1 1 0 1 0 0 0 0 1 1 0 1 0 0 0 1 1 1 0 1 1 1 0 0 0\n",
      " 1 1 0 1 0 0 1 0 0 0 1 0 1 0 0 0 1 0 0 0 0 1 1 0 0 1 0 1 1 1 1 0 1 0 0 0 1\n",
      " 1]\n"
     ]
    }
   ],
   "source": [
    "y_pred_nb = nb.predict(X_test_dtm)\n",
    "print(y_pred_nb)\n",
    "     "
   ]
  },
  {
   "cell_type": "code",
   "execution_count": 34,
   "id": "076832d9",
   "metadata": {},
   "outputs": [
    {
     "name": "stdout",
     "output_type": "stream",
     "text": [
      "Classification Accuracy: 0.9017341040462428\n",
      "Classification Report\n",
      "\n",
      "              precision    recall  f1-score   support\n",
      "\n",
      "           0       0.89      0.92      0.90       263\n",
      "           1       0.91      0.88      0.90       256\n",
      "\n",
      "    accuracy                           0.90       519\n",
      "   macro avg       0.90      0.90      0.90       519\n",
      "weighted avg       0.90      0.90      0.90       519\n",
      "\n",
      "Confusion Matrix\n",
      "\n",
      "[[242  21]\n",
      " [ 30 226]]\n"
     ]
    }
   ],
   "source": [
    "accuracy_score(y_test, y_pred_nb)\n",
    "print(\"Classification Accuracy:\", accuracy_score(y_test, y_pred_nb))\n",
    "print(\"Classification Report\\n\")\n",
    "print(classification_report(y_test, y_pred_nb))\n",
    "print(\"Confusion Matrix\\n\")\n",
    "print(confusion_matrix(y_test, y_pred_nb))"
   ]
  },
  {
   "cell_type": "code",
   "execution_count": 39,
   "id": "9b2b665c",
   "metadata": {},
   "outputs": [
    {
     "data": {
      "text/plain": [
       "Text(95.72222222222221, 0.5, 'Truth')"
      ]
     },
     "execution_count": 39,
     "metadata": {},
     "output_type": "execute_result"
    },
    {
     "data": {
      "image/png": "[encoded data removed]",
      "text/plain": [
       "<Figure size 1000x700 with 2 Axes>"
      ]
     },
     "metadata": {},
     "output_type": "display_data"
    }
   ],
   "source": [
    "cm = confusion_matrix(y_test,y_pred_nb)\n",
    "\n",
    "plt.figure(figsize = (10,7))\n",
    "sns.heatmap(cm, annot=True, fmt='d')\n",
    "plt.xlabel('Predicted')\n",
    "plt.ylabel('Truth')"
   ]
  },
  {
   "cell_type": "code",
   "execution_count": null,
   "id": "1df1f12a",
   "metadata": {},
   "outputs": [],
   "source": []
  },
  {
   "cell_type": "markdown",
   "id": "a214131a",
   "metadata": {},
   "source": [
    "## Decision Tree Classifier\n"
   ]
  },
  {
   "cell_type": "code",
   "execution_count": 41,
   "id": "2299e27a",
   "metadata": {},
   "outputs": [],
   "source": [
    "dt = DecisionTreeClassifier()\n"
   ]
  },
  {
   "cell_type": "code",
   "execution_count": 42,
   "id": "6fd8092a",
   "metadata": {},
   "outputs": [
    {
     "name": "stdout",
     "output_type": "stream",
     "text": [
      "Wall time: 485 ms\n"
     ]
    },
    {
     "data": {
      "text/plain": [
       "DecisionTreeClassifier()"
      ]
     },
     "execution_count": 42,
     "metadata": {},
     "output_type": "execute_result"
    }
   ],
   "source": [
    "%time dt.fit(X_train_dtm, y_train)"
   ]
  },
  {
   "cell_type": "code",
   "execution_count": 43,
   "id": "d8cd4af0",
   "metadata": {},
   "outputs": [],
   "source": [
    "y_pred_class = dt.predict(X_test_dtm)"
   ]
  },
  {
   "cell_type": "code",
   "execution_count": 44,
   "id": "53fc560c",
   "metadata": {},
   "outputs": [
    {
     "name": "stdout",
     "output_type": "stream",
     "text": [
      "Classification Accuracy: 0.8574181117533719\n",
      "Classification Report\n",
      "\n",
      "              precision    recall  f1-score   support\n",
      "\n",
      "           0       0.87      0.84      0.86       263\n",
      "           1       0.84      0.88      0.86       256\n",
      "\n",
      "    accuracy                           0.86       519\n",
      "   macro avg       0.86      0.86      0.86       519\n",
      "weighted avg       0.86      0.86      0.86       519\n",
      "\n",
      "Confusion Matrix\n",
      "\n",
      "[[221  42]\n",
      " [ 32 224]]\n"
     ]
    }
   ],
   "source": [
    "\n",
    "# Model Accuracy\n",
    "print(\"Classification Accuracy:\", accuracy_score(y_test, y_pred_class))\n",
    "print(\"Classification Report\\n\")\n",
    "print(classification_report(y_test, y_pred_class))\n",
    "print(\"Confusion Matrix\\n\")\n",
    "print(confusion_matrix(y_test, y_pred_class))"
   ]
  },
  {
   "cell_type": "code",
   "execution_count": 45,
   "id": "ab0d3027",
   "metadata": {},
   "outputs": [
    {
     "data": {
      "text/plain": [
       "Text(95.72222222222221, 0.5, 'Truth')"
      ]
     },
     "execution_count": 45,
     "metadata": {},
     "output_type": "execute_result"
    },
    {
     "data": {
      "image/png": "[encoded data removed]",
      "text/plain": [
       "<Figure size 1000x700 with 2 Axes>"
      ]
     },
     "metadata": {},
     "output_type": "display_data"
    }
   ],
   "source": [
    "# Confusion Matrix\n",
    "\n",
    "import seaborn as sn\n",
    "cm = confusion_matrix(y_test,y_pred_class)\n",
    "\n",
    "plt.figure(figsize = (10,7))\n",
    "sn.heatmap(cm, annot=True, fmt='d')\n",
    "plt.xlabel('Predicted')\n",
    "plt.ylabel('Truth')"
   ]
  },
  {
   "cell_type": "code",
   "execution_count": null,
   "id": "7546a0a3",
   "metadata": {},
   "outputs": [],
   "source": []
  },
  {
   "cell_type": "code",
   "execution_count": null,
   "id": "5e174573",
   "metadata": {},
   "outputs": [],
   "source": []
  },
  {
   "cell_type": "code",
   "execution_count": null,
   "id": "51dcfcb0",
   "metadata": {},
   "outputs": [],
   "source": []
  },
  {
   "cell_type": "code",
   "execution_count": null,
   "id": "b913bfe0",
   "metadata": {},
   "outputs": [],
   "source": []
  },
  {
   "cell_type": "code",
   "execution_count": null,
   "id": "105dcfac",
   "metadata": {},
   "outputs": [],
   "source": [
    "#random manuall testing"
   ]
  },
  {
   "cell_type": "code",
   "execution_count": 53,
   "id": "33d4072f",
   "metadata": {},
   "outputs": [
    {
     "data": {
      "text/plain": [
       "321     Support Worker (Personal Assistant) GB, EDH, E...\n",
       "1674    Hiring Part-Time Workers (CASH PAYING) US, CA,...\n",
       "45      Web Designer / Front End Developer GR, I, Athe...\n",
       "1722    ADMINISTRATIVE & OFFICE ASSISTANT US, TX, Hous...\n",
       "981     Customer Service Representative US, GA, Atlant...\n",
       "                              ...                        \n",
       "1211    Front-End Developer US, IN, Bloomington No pro...\n",
       "452     Lucene / Elasticsearch Engineer DE, BE, Berlin...\n",
       "1129    Market Specialists US, OH, Cincinnati Bradley ...\n",
       "1687    Weekend Cash Jobs Part time & Full time. AU, N...\n",
       "1708    Agency Sales Managers $150-$175,000/yr US, NY,...\n",
       "Name: text, Length: 519, dtype: object"
      ]
     },
     "execution_count": 53,
     "metadata": {},
     "output_type": "execute_result"
    }
   ],
   "source": [
    "X_test"
   ]
  },
  {
   "cell_type": "code",
   "execution_count": 63,
   "id": "c94aeaaf",
   "metadata": {},
   "outputs": [
    {
     "name": "stdout",
     "output_type": "stream",
     "text": [
      "Hiring Part-Time Workers (CASH PAYING) US, CA, Los Angeles No profile Hiring Part-Time Workers (CASH PAYING)You home, free time, place.Spend 30 minutes 1 hours day & Get biggest cash.You morning, afternoon, night.Perfect everyone start immediately.Can earn $400 $450 extra per day.No experience required.Zero start-up fee, Visit here:-#URL_7ebe37f71633be1b80547d6f213cb0075a63b6ced35281bfa5c067b5c685f04c#-rg.info No experience #URL_5a85681305d45d339fe029922fee6c08b4d9cd37e7636890b644d90489b4093a# experience required. Not disclosed Not specified\n"
     ]
    }
   ],
   "source": [
    "print(X_test[1674])"
   ]
  },
  {
   "cell_type": "code",
   "execution_count": 65,
   "id": "bee27901",
   "metadata": {},
   "outputs": [],
   "source": [
    "iptxt=['''Hiring Part-Time Workers (CASH PAYING) US, CA, Los Angeles No profile Hiring Part-Time Workers (CASH PAYING)You home, free time, place.Spend 30 minutes 1 hours day & Get biggest cash.You morning, afternoon, night.Perfect everyone start immediately.Can earn $400 $450 extra per day.No experience required.Zero start-up fee, Visit here:-#URL_7ebe37f71633be1b80547d6f213cb0075a63b6ced35281bfa5c067b5c685f04c#-rg.info No experience #URL_5a85681305d45d339fe029922fee6c08b4d9cd37e7636890b644d90489b4093a# experience required. Not disclosed Not specified''']"
   ]
  },
  {
   "cell_type": "code",
   "execution_count": 66,
   "id": "74b1d7ee",
   "metadata": {},
   "outputs": [
    {
     "name": "stdout",
     "output_type": "stream",
     "text": [
      "[1]\n",
      "Fraudulant Job\n"
     ]
    }
   ],
   "source": [
    "input_data_features = vect.transform(iptxt)\n",
    "prediction = dt.predict(input_data_features)\n",
    "print(prediction)\n",
    "\n",
    "\n",
    "if (prediction[0]==1):\n",
    "  print('Fraudulant Job')\n",
    "\n",
    "else:\n",
    "  print('Real Job')"
   ]
  },
  {
   "cell_type": "code",
   "execution_count": 67,
   "id": "902b1329",
   "metadata": {},
   "outputs": [
    {
     "name": "stdout",
     "output_type": "stream",
     "text": [
      "1\n"
     ]
    }
   ],
   "source": [
    "print(y_test[1674])"
   ]
  },
  {
   "cell_type": "code",
   "execution_count": null,
   "id": "434137a0",
   "metadata": {},
   "outputs": [],
   "source": []
  },
  {
   "cell_type": "code",
   "execution_count": 74,
   "id": "60adb6c3",
   "metadata": {},
   "outputs": [
    {
     "name": "stdout",
     "output_type": "stream",
     "text": [
      "F1 Score: 0.8582375478927203\n",
      "ROC AUC: 0.8576520912547528\n"
     ]
    }
   ],
   "source": [
    "from sklearn.metrics import f1_score, roc_auc_score\n",
    "print(\"F1 Score:\", f1_score(y_test, y_pred_class))\n",
    "print(\"ROC AUC:\", roc_auc_score(y_test, y_prob))"
   ]
  },
  {
   "cell_type": "code",
   "execution_count": 78,
   "id": "0c2b229e",
   "metadata": {},
   "outputs": [
    {
     "name": "stdout",
     "output_type": "stream",
     "text": [
      "Cross-validated scores: [0.79807692 0.90384615 0.82692308 0.80769231 0.85436893]\n",
      "Average accuracy: 0.8381814787154592\n"
     ]
    }
   ],
   "source": [
    "from sklearn.model_selection import StratifiedKFold, cross_val_score\n",
    "\n",
    "skf = StratifiedKFold(n_splits=5, shuffle=True, random_state=42)\n",
    "scores = cross_val_score(dt, X_test_dtm, y_test, cv=skf, scoring='accuracy')\n",
    "\n",
    "print(\"Cross-validated scores:\", scores)\n",
    "print(\"Average accuracy:\", scores.mean())\n"
   ]
  },
  {
   "cell_type": "code",
   "execution_count": 79,
   "id": "5ed3a867",
   "metadata": {},
   "outputs": [
    {
     "data": {
      "text/plain": [
       "['dec_tree_model.pkl']"
      ]
     },
     "execution_count": 79,
     "metadata": {},
     "output_type": "execute_result"
    }
   ],
   "source": [
    "import joblib\n",
    "\n",
    "# Save\n",
    "joblib.dump(nb, 'nb_model.pkl')\n",
    "joblib.dump(dt, 'dec_tree_model.pkl')\n",
    "\n"
   ]
  }
 ],
 "metadata": {
  "kernelspec": {
   "display_name": "Python 3 (ipykernel)",
   "language": "python",
   "name": "python3"
  },
  "language_info": {
   "codemirror_mode": {
    "name": "ipython",
    "version": 3
   },
   "file_extension": ".py",
   "mimetype": "text/x-python",
   "name": "python",
   "nbconvert_exporter": "python",
   "pygments_lexer": "ipython3",
   "version": "3.9.13"
  }
 },
 "nbformat": 4,
 "nbformat_minor": 5
}
